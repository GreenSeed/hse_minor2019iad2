{
 "cells": [
  {
   "cell_type": "code",
   "execution_count": 17,
   "metadata": {
    "collapsed": true,
    "pycharm": {
     "name": "#%%\n",
     "is_executing": false
    }
   },
   "outputs": [
    {
     "name": "stdout",
     "text": [
      "[6 5 4 3 2 1]\n"
     ],
     "output_type": "stream"
    }
   ],
   "source": [
    "import numpy as np\n",
    "vec = np.array([1,2,3,4,5,6])\n",
    "#перевернуть массив\n",
    "print(vec[::-1])"
   ]
  },
  {
   "cell_type": "code",
   "execution_count": 18,
   "outputs": [
    {
     "name": "stdout",
     "text": [
      "5\n"
     ],
     "output_type": "stream"
    }
   ],
   "source": [
    "#максимальный нечетный элемент\n",
    "print(max(vec[vec % 2!= 0]))\n"
   ],
   "metadata": {
    "collapsed": false,
    "pycharm": {
     "name": "#%%\n",
     "is_executing": false
    }
   }
  },
  {
   "cell_type": "code",
   "execution_count": 19,
   "outputs": [
    {
     "name": "stdout",
     "text": [
      "[3 2 3 4 3 6]\n"
     ],
     "output_type": "stream"
    }
   ],
   "source": [
    "vec[vec % 2!=0] = 3\n",
    "print(vec)"
   ],
   "metadata": {
    "collapsed": false,
    "pycharm": {
     "name": "#%%\n",
     "is_executing": false
    }
   }
  },
  {
   "cell_type": "code",
   "execution_count": 20,
   "outputs": [
    {
     "name": "stdout",
     "text": [
      "[ 1  3  5  7  9 11 13 15 17 19]\n"
     ],
     "output_type": "stream"
    }
   ],
   "source": [
    "n=20\n",
    "vec = np.arange(1,n,2)\n",
    "print(vec)"
   ],
   "metadata": {
    "collapsed": false,
    "pycharm": {
     "name": "#%%\n",
     "is_executing": false
    }
   }
  },
  {
   "cell_type": "code",
   "execution_count": 47,
   "outputs": [
    {
     "name": "stdout",
     "text": [
      "[4 1 2 4 5 3]\n1 5\n"
     ],
     "output_type": "stream"
    }
   ],
   "source": [
    "x = 1.3\n",
    "vec = np.array([4,1,2,4,5,3])\n",
    "print(vec)\n",
    "vec2 = np.abs(vec-x)\n",
    "print(vec[vec2.argmin()],vec[vec2.argmax()])"
   ],
   "metadata": {
    "collapsed": false,
    "pycharm": {
     "name": "#%%\n",
     "is_executing": false
    }
   }
  },
  {
   "cell_type": "code",
   "execution_count": 48,
   "outputs": [
    {
     "name": "stdout",
     "text": [
      "[1 2 0 1 5]\n"
     ],
     "output_type": "stream"
    }
   ],
   "source": [
    "vec = np.array([4,6,0,1])\n",
    "for i in range(vec.size):\n",
    "    vec[i]/=vec.size-i\n",
    "\n",
    "vec = np.append(vec,5)\n",
    "print(vec)"
   ],
   "metadata": {
    "collapsed": false,
    "pycharm": {
     "name": "#%%\n",
     "is_executing": false
    }
   }
  },
  {
   "cell_type": "code",
   "execution_count": 50,
   "outputs": [
    {
     "name": "stdout",
     "text": [
      "[4 6 0 1]\n"
     ],
     "output_type": "stream"
    }
   ],
   "source": [
    "vec = np.array([1,2, 0,1,5])\n",
    "for i in range(vec.size):\n",
    "    vec[i]*=vec.size-(i+1)\n",
    "vec=vec[:-1]\n",
    "print(vec)"
   ],
   "metadata": {
    "collapsed": false,
    "pycharm": {
     "name": "#%%\n",
     "is_executing": false
    }
   }
  }
 ],
 "metadata": {
  "language_info": {
   "codemirror_mode": {
    "name": "ipython",
    "version": 2
   },
   "file_extension": ".py",
   "mimetype": "text/x-python",
   "name": "python",
   "nbconvert_exporter": "python",
   "pygments_lexer": "ipython2",
   "version": "2.7.6"
  },
  "kernelspec": {
   "name": "python3",
   "language": "python",
   "display_name": "Python 3"
  },
  "pycharm": {
   "stem_cell": {
    "cell_type": "raw",
    "source": [],
    "metadata": {
     "collapsed": false
    }
   }
  }
 },
 "nbformat": 4,
 "nbformat_minor": 0
}